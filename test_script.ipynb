{
 "cells": [
  {
   "cell_type": "code",
   "execution_count": 3,
   "metadata": {},
   "outputs": [
    {
     "name": "stdout",
     "output_type": "stream",
     "text": [
      "Inputs:\n",
      "name: \"input\"\n",
      "type {\n",
      "  tensor_type {\n",
      "    elem_type: 1\n",
      "    shape {\n",
      "      dim {\n",
      "        dim_value: 1\n",
      "      }\n",
      "      dim {\n",
      "        dim_value: 3\n",
      "      }\n",
      "      dim {\n",
      "        dim_value: 518\n",
      "      }\n",
      "      dim {\n",
      "        dim_value: 518\n",
      "      }\n",
      "    }\n",
      "  }\n",
      "}\n",
      "\n",
      "Outputs:\n",
      "name: \"output\"\n",
      "type {\n",
      "  tensor_type {\n",
      "    elem_type: 1\n",
      "    shape {\n",
      "      dim {\n",
      "        dim_value: 1\n",
      "      }\n",
      "      dim {\n",
      "        dim_value: 518\n",
      "      }\n",
      "      dim {\n",
      "        dim_value: 518\n",
      "      }\n",
      "    }\n",
      "  }\n",
      "}\n",
      "\n"
     ]
    }
   ],
   "source": [
    "import onnx\n",
    "\n",
    "model = onnx.load(\"./checkpoints/depth_anything_v2_vits.onnx\")\n",
    "\n",
    "onnx.checker.check_model(model)\n",
    "\n",
    "# 打印模型的输入和输出\n",
    "print(\"Inputs:\")\n",
    "for input in model.graph.input:\n",
    "    print(input)\n",
    "\n",
    "print(\"Outputs:\")\n",
    "for output in model.graph.output:\n",
    "    print(output)"
   ]
  }
 ],
 "metadata": {
  "kernelspec": {
   "display_name": "MagicLive",
   "language": "python",
   "name": "python3"
  },
  "language_info": {
   "codemirror_mode": {
    "name": "ipython",
    "version": 3
   },
   "file_extension": ".py",
   "mimetype": "text/x-python",
   "name": "python",
   "nbconvert_exporter": "python",
   "pygments_lexer": "ipython3",
   "version": "3.12.5"
  }
 },
 "nbformat": 4,
 "nbformat_minor": 2
}
